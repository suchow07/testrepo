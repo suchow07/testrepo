{
 "cells": [
  {
   "cell_type": "markdown",
   "metadata": {},
   "source": [
    "<center>\n",
    "    <img src=\"https://cf-courses-data.s3.us.cloud-object-storage.appdomain.cloud/IBMDeveloperSkillsNetwork-DS0105EN-SkillsNetwork/labs/Module2/images/SN_web_lightmode.png\" width=\"300\" alt=\"cognitiveclass.ai logo\"  />\n",
    "</center>\n"
   ]
  },
  {
   "cell_type": "markdown",
   "metadata": {},
   "source": [
    "#### Add your code below following the instructions given in the course\n"
   ]
  },
  {
   "cell_type": "markdown",
   "metadata": {},
   "source": [
    "# My Jupyter Notebook on IBM Watson Studio"
   ]
  },
  {
   "cell_type": "markdown",
   "metadata": {},
   "source": [
    "**Suparna Chowdhury** </br>\n",
    "Data Scientist"
   ]
  },
  {
   "cell_type": "markdown",
   "metadata": {},
   "source": [
    "*I am interested in data science because  I am fascinated with telling stories with data, explore large datasets in new ways and discover key insights. I always enjoy statistical analysis and working on mathematical algorithms. In data science I can apply analytical skills to draw meaningful conclusions and find innovative solutions for the real-world problems.*"
   ]
  },
  {
   "cell_type": "markdown",
   "metadata": {},
   "source": [
    "### The following code snippet shows how to print the sum of two numbers"
   ]
  },
  {
   "cell_type": "code",
   "execution_count": 2,
   "metadata": {},
   "outputs": [
    {
     "name": "stdout",
     "output_type": "stream",
     "text": [
      "The sum is 25\n"
     ]
    }
   ],
   "source": [
    "a = 10\n",
    "b = 15\n",
    "print(\"The sum is {}\".format(a+b))"
   ]
  },
  {
   "cell_type": "markdown",
   "metadata": {},
   "source": [
    "### Python libraries for data science\n",
    "1. Scientific Calculating Libraries:\n",
    " * Pandas\n",
    " * Numpy\n",
    "2. Visualization Libraries:\n",
    " + Matplotlib\n",
    " + Seaborn\n",
    " \n",
    "3. Machine Learning and Deep Learning Libraries:\n",
    "+ Scikit-learn\n",
    "+ Keras\n",
    "4. Deep Learning Libraries:\n",
    "+ Pytorch\n",
    "+ TensorFlow\n",
    "\n",
    "#### Pandas\n",
    "\n",
    "- The most important elements of pandas is Dataframe, which is a two-dimensional table. For example,\n",
    "Name | Age | Height | Weight | Pulse |\n",
    "-----|-----|--------|--------|-------|\n",
    "Alice| 38 | 160  |  65 |  81 |\n",
    "John  | 25|  158 |  67 | 83  |\n",
    "\n",
    "- We can import csv files using pandas read_csv method:\n",
    "\n",
    "```python\n",
    "import pandas as pd\n",
    "df = pd.read_csv(\"data.csv\")\n",
    "df.head()\n",
    "```\n",
    "\n"
   ]
  },
  {
   "cell_type": "code",
   "execution_count": null,
   "metadata": {},
   "outputs": [],
   "source": []
  }
 ],
 "metadata": {
  "kernelspec": {
   "display_name": "Python",
   "language": "python",
   "name": "conda-env-python-py"
  },
  "language_info": {
   "codemirror_mode": {
    "name": "ipython",
    "version": 3
   },
   "file_extension": ".py",
   "mimetype": "text/x-python",
   "name": "python",
   "nbconvert_exporter": "python",
   "pygments_lexer": "ipython3",
   "version": "3.7.12"
  }
 },
 "nbformat": 4,
 "nbformat_minor": 4
}
